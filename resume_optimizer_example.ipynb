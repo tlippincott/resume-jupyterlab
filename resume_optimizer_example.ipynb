{
 "cells": [
  {
   "cell_type": "markdown",
   "id": "f31843b4-80d3-4832-8e4a-5722842bee87",
   "metadata": {},
   "source": [
    "# Lightning Lesson: How to Build a Resume Optimizer with AI\n",
    "\n",
    "Code originally authored by: Shaw Talebi\n",
    "<br>\n",
    "Modified by: Terry Lippincott\n",
    "\n",
    "[Original recording link](https://youtu.be/R5WXaxmb6m4)"
   ]
  },
  {
   "cell_type": "markdown",
   "id": "130bfd72-71d5-425a-8b39-3cbcbbabc1f1",
   "metadata": {},
   "source": [
    "### imports"
   ]
  },
  {
   "cell_type": "code",
   "execution_count": 17,
   "id": "a7519d8c-5f98-43af-9898-2ea65b7fdc57",
   "metadata": {},
   "outputs": [],
   "source": [
    "import os\n",
    "import re\n",
    "import ipywidgets as widgets\n",
    "import pathlib as Path\n",
    "from IPython.display import display, Markdown\n",
    "from openai import OpenAI\n",
    "\n",
    "from markdown import markdown\n",
    "from weasyprint import HTML, CSS"
   ]
  },
  {
   "cell_type": "markdown",
   "id": "a81122eb-7584-4ea7-826b-7b628998ac88",
   "metadata": {},
   "source": [
    "### 1) Import Resume Details, Job Description, Company Name, and Company Info"
   ]
  },
  {
   "cell_type": "code",
   "execution_count": 18,
   "id": "2eadad78-80c6-451b-a0f6-86c62d3e2690",
   "metadata": {},
   "outputs": [
    {
     "data": {
      "text/markdown": [
       "## summary ##\n",
       "\n",
       "\n",
       "## spins ##\n",
       "\n",
       "- Diagnosed, debugged, and resolved software-related issues by leveraging programming skills, enhancing system performance and user satisfaction.  \n",
       "- Translated complex technical solutions into clear, user-friendly explanations for non-technical stakeholders.  \n",
       "- Assisted in the seamless deployment of new software, ensuring rapid user setup and minimal disruption.  \n",
       "- Configured and managed user accounts, access rights, and permissions, ensuring robust data security.  \n",
       "- Delivered personalized and group training sessions, empowering users and reducing support volume.  \n",
       "- Acted as a subject matter expert on proprietary systems, guiding troubleshooting efforts.  \n",
       "- Analyzed logs and data transfers to identify and proactively resolve issues.  \n",
       "- Developed tools to automate repetitive help desk tasks, improving operational efficiency.\n",
       "\n",
       "## programmer ##\n",
       "\n",
       "- Delivered statewide support and resolved application and data-related issues.  \n",
       "- Trained end users to enhance their independent troubleshooting abilities.  \n",
       "- Led statewide deployment of application upgrades.  \n",
       "- Created technical documentation and user guides to reduce support inquiries.  \n",
       "- Provided multi-channel help desk support (phone, email, remote).  \n",
       "- Used SQL to resolve access and data modification issues, ensuring compliance.\n",
       "\n",
       "## analyst ##\n",
       "\n",
       "- Co-developed a digital ID system for the Department of Corrections.  \n",
       "- Managed user access for the Visitor Tracking system.  \n",
       "- Built custom desktop applications to optimize workflows.  \n",
       "- Provided IT support for a 25-person team, handling all hardware/software needs.  \n",
       "- Collaborated with leadership to develop automated operational solutions.\n",
       "\n",
       "## Additional Suggestions"
      ],
      "text/plain": [
       "<IPython.core.display.Markdown object>"
      ]
     },
     "metadata": {},
     "output_type": "display_data"
    }
   ],
   "source": [
    "# open and read the Markdown file\n",
    "with open(\"resumes/resume.md\", \"r\", encoding=\"utf-8\") as file:\n",
    "    resume_string = file.read()\n",
    "\n",
    "# display resume sections\n",
    "display(Markdown(resume_string))"
   ]
  },
  {
   "cell_type": "code",
   "execution_count": 19,
   "id": "11562042-ba1a-4703-b38e-03f96031bee5",
   "metadata": {},
   "outputs": [
    {
     "name": "stdin",
     "output_type": "stream",
     "text": [
      " This is a job description for a truly boring job. That is all.\n"
     ]
    }
   ],
   "source": [
    "# input job description\n",
    "jd_string = input()"
   ]
  },
  {
   "cell_type": "code",
   "execution_count": 20,
   "id": "780530da-5f8d-4c5a-b5e4-a3fe565569f4",
   "metadata": {},
   "outputs": [
    {
     "name": "stdin",
     "output_type": "stream",
     "text": [
      " Iterable\n"
     ]
    }
   ],
   "source": [
    "# input company name\n",
    "comp_name_string = input()"
   ]
  },
  {
   "cell_type": "code",
   "execution_count": 21,
   "id": "a50fcbda-2e21-477d-a92e-99ce9fc1f5b1",
   "metadata": {},
   "outputs": [
    {
     "name": "stdin",
     "output_type": "stream",
     "text": [
      " Iterable is the leading AI-powered customer engagement platform that helps leading brands like Redfin, SeatGeek, Priceline, Calm, and Box create dynamic, individualized experiences at scale. Our platform empowers organizations to activate customer data, design seamless cross-channel interactions, and optimize engagement—all with enterprise-grade security and compliance. Today, nearly 1,200 brands across 50+ countries rely on Iterable to drive growth, deepen customer relationships, and deliver joyful customer experiences.  Our success is powered by extraordinary people who bring our core values—Trust, Growth Mindset, Balance, and Humility—to life. We foster a culture of innovation, collaboration, and inclusion, where ideas are valued and individuals are empowered to do their best work. That’s why we’ve been recognized as one of Inc’s Best Workplaces and Fastest Growing Companies, and were recognized on Forbes’ list of America’s Best Startup Employers in 2022. Notably, Iterable has also been listed on Wealthfront’s Career Launching Companies List and has held a top 10 ranking on the Top 25 Companies Where Women Want to Work.  With a global presence—including offices in San Francisco, New York, Denver, London, and Lisbon, plus remote employees worldwide—we are committed to building a diverse and inclusive workplace. We welcome candidates from all backgrounds and encourage you to apply. Learn more about our story and mission on our Culture and About Us pages. Let’s shape the future of customer engagement together!\n"
     ]
    }
   ],
   "source": [
    "# input company information\n",
    "comp_info_string = input()"
   ]
  },
  {
   "cell_type": "code",
   "execution_count": 22,
   "id": "c756d075-e6df-418b-a1be-05d638b6a3a1",
   "metadata": {},
   "outputs": [],
   "source": [
    "# if summary section should state this is for a more customer facing role\n",
    "job_change:bool = True"
   ]
  },
  {
   "cell_type": "markdown",
   "id": "645fd11e-da6a-41ba-8ed1-ba8ed4903c8b",
   "metadata": {},
   "source": [
    "### 2) Construct Prompt Template"
   ]
  },
  {
   "cell_type": "code",
   "execution_count": 23,
   "id": "87b05995-b9a2-4204-9c37-771efbb644a6",
   "metadata": {},
   "outputs": [],
   "source": [
    "prompt_template = lambda resume_string, jd_string, comp_name_string, comp_info_string, job_change : f\"\"\"\n",
    "You are a professional resume optimization expert specializing in tailoring resume bullet points and summaries to specific job descriptions. Your goal is to optimize my bullet points and provide actionable suggestions for improvement to align with the target role.\n",
    "\n",
    "Enhance the provided resume bullet points to align with the given job description and create a tailored resume summary. The summary should leverage the enhanced bullet points, the company name, and company information while underscoring how your skills, including 15 years of experience in the technology sector, can benefit the company. If the \"change\" section of the markdown file is \"true,\" also state that you are looking for a role that is more customer-focused. The uploaded files will be `resume_string` (a string), `jd_string` (a string), `comp_name_string` (a string), and `comp_info_string` (a string).\n",
    "\n",
    "- Incorporate details from the job description (`jd_string`) to refine the bullet points, ensuring they highlight relevant skills and experiences.\n",
    "- Craft a resume summary that emphasizes your alignment with the company’s needs and objectives, using the company name (`comp_name_string`) and company information (`comp_info_string`) effectively.\n",
    "\n",
    "# Steps\n",
    "\n",
    "1. **Analyze Job Description:** Identify key skills, experiences, and attributes the company is looking for from the `jd_string`.\n",
    "2. **Modify Bullet Points:** Align each bullet point with these key areas, emphasizing relevant experience and achievements from `resume_string`.\n",
    "3. **Write Resume Summary:**\n",
    "   - Begin with a brief introduction summarizing your experience in the technology world.\n",
    "   - Highlight how specific skills and achievements align with the company's goals.\n",
    "   - If the job change value ('job_change') is \"True,\" include a statement about seeking a more customer-focused role.\n",
    "   - Conclude with the value you can bring to the company.\n",
    "\n",
    "# Additional Suggestions\n",
    "\n",
    "- **Additional Skills:** Identify and suggest any additional skills that could enhance your candidacy for roles in the target industry or position.\n",
    "- **Certifications or Courses:** Recommend certifications or courses that can further establish your expertise and relevance to the target job market.\n",
    "- **Project Ideas or Experiences:** Propose potential project ideas or experiences that can be pursued to gain or demonstrate relevant expertise.\n",
    "\n",
    "**Input:**\n",
    "- Resume in Markdown: {resume_string}\n",
    "- Job Description: {jd_string}\n",
    "- Company Name: {comp_name_string}\n",
    "- Company Info: {comp_info_string}\n",
    "- Customer Facing Role: {job_change}\n",
    "\n",
    "# Output Format\n",
    "\n",
    "- Enhanced bullet points that directly relate to the job description (`jd_string`).\n",
    "- Each bullet point begins with \"<li>\" and ends with \"</li>\" and only contains text in the middle.\n",
    "- A resume summary consisting of 6-8 sentences, incorporating your experience, skills, alignment with the company’s objectives, and any additional notes about seeking a customer-focused role, using information from `comp_name_string` and `comp_info_string`.\n",
    "- Additional Suggestions section detailing actionable points on additional skills, certifications/courses, and project ideas/experiences.\n",
    "- Return the same updated markdown file as \"enhanced-information.md\" with the same number of sections and enhanced bullet points, summary, and additional suggestions placed under the correct headings. Ensure enhancements are made to the \"spins\", \"programmer\", and \"analyst\" sections with bullet points placed accordingly.\n",
    "\n",
    "# Examples\n",
    "\n",
    "## Input\n",
    "- **Resume Bullet Points:** \n",
    "  - Developed applications using Agile methodologies.\n",
    "  - Managed a software development team.\n",
    "- **Job Description:** Seeks project managers with experience in leading technology projects and optimizing team performance.\n",
    "- **Company Name:** TechVision\n",
    "- **Company Information:** TechVision is a leading innovator in cloud solutions and AI technologies.\n",
    "- **Job Change:** True\n",
    "\n",
    "## Output\n",
    "- **Enhanced Bullet Points:**\n",
    "  <li>Successfully led cross-functional teams in developing key applications, utilizing Agile methodologies to enhance productivity and product quality.</li>\n",
    "  <li>Managed a high-performing software development team, achieving a 20% increase in project delivery efficiency</li>\n",
    "\n",
    "- **Resume Summary:**\n",
    "  With over 15 years in the technology industry, I have honed my ability to lead dynamic teams and drive innovation in fast-paced environments. My experience in managing technology projects aligns seamlessly with TechVision's aim to pioneer cloud solutions and AI advancements. By optimizing team performance and fostering collaboration, I have consistently delivered top-tier results. Additionally, I am seeking a role that is more customer-focused to leverage my strategic insights in enhancing client engagement. At TechVision, I plan to leverage these skills to spearhead projects that fuel growth and differentiation in the market. My strategic perspective and commitment to quality will support your mission of innovation. I am excited about the opportunity to contribute to TechVision's success and drive future achievements.\n",
    "\n",
    "- **Additional Suggestions:**\n",
    "  - **Additional Skills:** Leadership in collaborative project environments.\n",
    "  - **Certifications or Courses:** Agile Project Management Certification.\n",
    "  - **Project Ideas or Experiences:** Develop an AI-focused project that aligns with cloud services.\n",
    "\n",
    "# Notes\n",
    "\n",
    "- Ensure that the enhanced bullet points and summary narrative maintain a formal and professional tone.\n",
    "- Customize the summary to reflect a strong understanding of the company’s mission and values.\n",
    "\"\"\""
   ]
  },
  {
   "cell_type": "code",
   "execution_count": 24,
   "id": "071b2065-775b-4016-b5fd-0b41749c244f",
   "metadata": {
    "scrolled": true
   },
   "outputs": [],
   "source": [
    "prompt = prompt_template(resume_string, jd_string, comp_name_string, comp_info_string, job_change)"
   ]
  },
  {
   "cell_type": "markdown",
   "id": "0654b781-aa60-4a41-a9f1-a578edfad490",
   "metadata": {},
   "source": [
    "### 3) Generate Resume Sections with GPT-4o-mini"
   ]
  },
  {
   "cell_type": "code",
   "execution_count": 25,
   "id": "a5eb19bc-7cb2-44df-8795-a13695414380",
   "metadata": {},
   "outputs": [
    {
     "name": "stdout",
     "output_type": "stream",
     "text": [
      "The dotenv extension is already loaded. To reload it, use:\n",
      "  %reload_ext dotenv\n"
     ]
    }
   ],
   "source": [
    "# load the dotenv IPython extension and load the .env file\n",
    "%load_ext dotenv\n",
    "%dotenv\n",
    "\n",
    "# get the api key\n",
    "my_api_key = os.getenv(\"API_KEY\")\n",
    "\n",
    "# setup api client\n",
    "client = OpenAI(api_key=my_api_key)\n",
    "\n",
    "# make api call\n",
    "response = client.chat.completions.create(\n",
    "    model=\"gpt-4o-mini\",\n",
    "    messages=[\n",
    "        {\"role\": \"system\", \"content\": \"Expert resume writer\"},\n",
    "        {\"role\": \"user\", \"content\": prompt}\n",
    "    ], \n",
    "    temperature = 0.7\n",
    ")\n",
    "\n",
    "# extract response\n",
    "response_string = response.choices[0].message.content"
   ]
  },
  {
   "cell_type": "markdown",
   "id": "e3aa8d51-860d-42c6-ad60-570d4ac45b23",
   "metadata": {},
   "source": [
    "### 4) Display Results"
   ]
  },
  {
   "cell_type": "code",
   "execution_count": 26,
   "id": "8ca46d3f-e22c-4ea0-8425-f62bea16b932",
   "metadata": {},
   "outputs": [],
   "source": [
    "# separate new resume sections from improvement suggestions\n",
    "response_list = response_string.split(\"## Additional Suggestions\")"
   ]
  },
  {
   "cell_type": "code",
   "execution_count": 27,
   "id": "69a55b69-0e66-4741-bbcc-e00d5320cfc9",
   "metadata": {},
   "outputs": [
    {
     "data": {
      "application/vnd.jupyter.widget-view+json": {
       "model_id": "b391c501618b4b539beda00c1931ada6",
       "version_major": 2,
       "version_minor": 0
      },
      "text/plain": [
       "Textarea(value=\"```markdown\\n## summary ##\\nWith over 15 years of experience in the technology sector, I posse…"
      ]
     },
     "metadata": {},
     "output_type": "display_data"
    },
    {
     "data": {
      "application/vnd.jupyter.widget-view+json": {
       "model_id": "9709ebb8c4ce4816965b588ff3d42b05",
       "version_major": 2,
       "version_minor": 0
      },
      "text/plain": [
       "Button(button_style='success', description='Save to File', style=ButtonStyle())"
      ]
     },
     "metadata": {},
     "output_type": "display_data"
    },
    {
     "data": {
      "application/vnd.jupyter.widget-view+json": {
       "model_id": "4a9d6aaa15904d77980665b4740fd2c0",
       "version_major": 2,
       "version_minor": 0
      },
      "text/plain": [
       "Output()"
      ]
     },
     "metadata": {},
     "output_type": "display_data"
    }
   ],
   "source": [
    "# view resume sections, edit and save\n",
    "\n",
    "# create text area\n",
    "text_area = widgets.Textarea(\n",
    "    value=response_list[0],\n",
    "    placeholder='Edit new resume sections here',\n",
    "    description='Editor',\n",
    "    layout=widgets.Layout(width='100%', height='600px'),\n",
    "    style={'description_width': 'initial'}\n",
    ")\n",
    "\n",
    "# output message\n",
    "output = widgets.Output()\n",
    "\n",
    "# create Save button\n",
    "save_button = widgets.Button(description=\"Save to File\", button_style='success')\n",
    "\n",
    "# Save logic\n",
    "def save_to_file(b):\n",
    "    filepath = \"resumes/resume_new.md\"\n",
    "    with open(filepath, 'w') as f:\n",
    "        f.write(text_area.value)\n",
    "    with output:\n",
    "        output.clear_output()\n",
    "        print(f\"Saved to {filepath}\")\n",
    "\n",
    "# connect button to save function\n",
    "save_button.on_click(save_to_file)\n",
    "\n",
    "# display everything\n",
    "display(text_area, save_button, output)"
   ]
  },
  {
   "cell_type": "markdown",
   "id": "d3ec6a91-ae98-485c-9da2-901d6d3ff054",
   "metadata": {},
   "source": [
    "### 5) Create Enhanced Resume"
   ]
  },
  {
   "cell_type": "code",
   "execution_count": 45,
   "id": "e088f6ff-8e49-4ddc-a6bf-f847426a3b29",
   "metadata": {},
   "outputs": [],
   "source": [
    "# extract Markdown sections\n",
    "def extract_section(tag, text):\n",
    "    pattern = rf'##\\s*{tag}\\s*##(.*?)(?=##|$)'\n",
    "    match = re.search(pattern, text, re.DOTALL | re.IGNORECASE)\n",
    "    return match.group(1).strip() if match else ''\n",
    "\n",
    "md_path = Path('resumes/resume_new.md')\n",
    "resume_section_text = md_path.read_text(encoding='utf-8')\n",
    "\n",
    "md_sections = {\n",
    "    'summary': extract_section('summary', resume_section_text),\n",
    "    'spins': extract_section('spins', resume_section_text),\n",
    "    'programmer': extract_section('programmer', resume_section_text),\n",
    "    'analyst': extract_section('analyst', resume_section_text),\n",
    "}\n",
    "\n",
    "# convert each section to HTML\n",
    "sections_html = {k: markdown(v, extensions=['fenced_code', 'tables']) for k, v in md_sections.items()}\n",
    "\n",
    "# get the HTML template file\n",
    "with open('resumes/resume.html', 'r', encoding='utf-8') as file:\n",
    "    html_template = file.read()\n",
    "\n",
    "# insert the new resume sections into the HTML template\n",
    "final_html = html_template.format(\n",
    "    summary=sections_html['summary'],\n",
    "    spins=sections_html['spins'],\n",
    "    programmer=sections_html['programmer'],\n",
    "    analyst=sections_html['analyst']\n",
    ")\n",
    "\n",
    "# save updated HTML file\n",
    "with open('resumes/final_output.html', 'w', encoding='utf-8') as f:\n",
    "    f.write(final_html)\n",
    "\n",
    "# set paths to HTML and CSS files\n",
    "html_file_path = 'resumes/final_output.html'\n",
    "css_file_path = 'resumes/style.css'\n",
    "output_pdf_path = '/Users/terrylippincott/Downloads/Terry_Lippincott_Resume_2025.pdf'\n",
    "\n",
    "# load and render HTML to PDF\n",
    "HTML(filename=html_file_path).write_pdf(\n",
    "    output_pdf_path,\n",
    "    stylesheets=[CSS(filename=css_file_path)]\n",
    ")"
   ]
  },
  {
   "cell_type": "markdown",
   "id": "9b6997a3-47c8-4bf1-9df6-8c1a5ae00858",
   "metadata": {},
   "source": [
    "#### Display Suggestions for Improvement"
   ]
  },
  {
   "cell_type": "code",
   "execution_count": 17,
   "id": "0f7397eb-d6cc-45e5-8cbd-bec6cc0cfc3b",
   "metadata": {},
   "outputs": [
    {
     "data": {
      "text/markdown": [
       "\n",
       "\n",
       "1. **Skills to Enhance**:  \n",
       "   - Explore \"Docs-as-Code\" methodologies to align with technical writing requirements.\n",
       "   - Gain experience with data engineering tools like Spark to broaden expertise.\n",
       "\n",
       "2. **Certifications or Courses**:  \n",
       "   - Consider enrolling in courses focused on technical documentation or UX writing.\n",
       "   - Pursue additional training in advanced Python libraries relevant to data engineering.\n",
       "\n",
       "3. **Project Ideas**:  \n",
       "   - Develop a project documenting a hypothetical SaaS product, emphasizing open-source components.\n",
       "   - Create a series of Python tutorials or integration guides to demonstrate technical writing capabilities.\n",
       "```\n",
       "\n",
       "### Explanation of Tailoring:\n",
       "\n",
       "1. **Relevance**: Focused on roles and experiences most aligned with technical writing, data collaboration, and Python expertise as required by the job description.\n",
       "2. **Action-Driven Results**: Emphasized quantifiable impacts and contributions in relevant roles.\n",
       "3. **Keyword Optimization**: Integrated terms like \"data pipeline,\" \"unsupervised learning,\" and \"EEG bands\" to align with the focus on data quality and technical documentation.\n",
       "4. **Formatting**: Structured the resume in a clean Markdown format, ensuring conciseness and clarity.\n",
       "5. **Additional Suggestions**: Provided actionable recommendations to enhance alignment with the target role.\n",
       "\n",
       "This optimized resume showcases your suitability for the Great Expectations role by highlighting your technical experience, relevant skills, and achievements in data science and documentation."
      ],
      "text/plain": [
       "<IPython.core.display.Markdown object>"
      ]
     },
     "metadata": {},
     "output_type": "display_data"
    }
   ],
   "source": [
    "display(Markdown(response_list[1]))"
   ]
  }
 ],
 "metadata": {
  "kernelspec": {
   "display_name": "Python 3 (ipykernel)",
   "language": "python",
   "name": "python3"
  },
  "language_info": {
   "codemirror_mode": {
    "name": "ipython",
    "version": 3
   },
   "file_extension": ".py",
   "mimetype": "text/x-python",
   "name": "python",
   "nbconvert_exporter": "python",
   "pygments_lexer": "ipython3",
   "version": "3.11.11"
  }
 },
 "nbformat": 4,
 "nbformat_minor": 5
}
