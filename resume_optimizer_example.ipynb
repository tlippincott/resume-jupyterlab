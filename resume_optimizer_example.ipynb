{
 "cells": [
  {
   "cell_type": "markdown",
   "id": "f31843b4-80d3-4832-8e4a-5722842bee87",
   "metadata": {},
   "source": [
    "# Lightning Lesson: How to Build a Resume Optimizer with AI\n",
    "\n",
    "Code authored by: Shaw Talebi\n",
    "\n",
    "[Recording link](https://youtu.be/R5WXaxmb6m4)"
   ]
  },
  {
   "cell_type": "markdown",
   "id": "130bfd72-71d5-425a-8b39-3cbcbbabc1f1",
   "metadata": {},
   "source": [
    "### imports"
   ]
  },
  {
   "cell_type": "code",
   "execution_count": 12,
   "id": "a7519d8c-5f98-43af-9898-2ea65b7fdc57",
   "metadata": {},
   "outputs": [],
   "source": [
    "import os\n",
    "from IPython.display import display, Markdown\n",
    "from openai import OpenAI\n",
    "\n",
    "from markdown import markdown\n",
    "from weasyprint import HTML"
   ]
  },
  {
   "cell_type": "markdown",
   "id": "a81122eb-7584-4ea7-826b-7b628998ac88",
   "metadata": {},
   "source": [
    "### 1) Import Resume & Job Description"
   ]
  },
  {
   "cell_type": "code",
   "execution_count": 13,
   "id": "2eadad78-80c6-451b-a0f6-86c62d3e2690",
   "metadata": {},
   "outputs": [
    {
     "data": {
      "text/markdown": [
       "# TERRY LIPPINCOTT  \n",
       "Captain Cook, Hawaii  \n",
       "[tlippincott25@gmail.com](mailto:tlippincott25@gmail.com)  \n",
       "[linkedin.com/in/terrylippincott](https://linkedin.com/in/terrylippincott)\n",
       "\n",
       "---\n",
       "\n",
       "## PROFESSIONAL SUMMARY\n",
       "\n",
       "With 15 years of experience in the technology field, I have developed a strong foundation in technical support, troubleshooting, and programming. At SPINS, I enhanced system performance and user satisfaction by diagnosing, debugging, and resolving software-related issues, while also translating complex technical solutions into user-friendly language. I have a proven track record of configuring and managing user accounts, access rights, and system permissions to ensure data security and integrity. My experience delivering training and acting as a subject matter expert allowed me to empower users with technical knowledge, reducing support volume and improving system utilization.\n",
       "\n",
       "In previous roles with the State of Michigan, I led statewide deployments, provided multi-channel help desk support, and used SQL to resolve access and data-related issues, ensuring operational continuity and compliance. I’ve developed custom tools to automate repetitive help desk tasks, improving efficiency and reducing resolution times. Seeking to shift my career focus, I aim to combine my technical expertise and programming background to assist end users directly, as I transition into a more customer-facing support role. My experience aligns well with Poll Everywhere’s mission, as I am eager to apply my problem-solving skills, technical troubleshooting abilities, and passion for customer satisfaction to enhance the user experience for Poll Everywhere’s clients.\n",
       "\n",
       "---\n",
       "\n",
       "## EXPERIENCE\n",
       "\n",
       "### Software Engineer  \n",
       "**SPINS | Chicago, Illinois (worked remotely from Hawaii)**  \n",
       "*Jun 2018 – Jun 2024*\n",
       "\n",
       "- Diagnosed, debugged, and resolved software-related issues by leveraging programming skills, enhancing system performance and user satisfaction.  \n",
       "- Translated complex technical solutions into clear, user-friendly explanations for non-technical stakeholders.  \n",
       "- Assisted in the seamless deployment of new software, ensuring rapid user setup and minimal disruption.  \n",
       "- Configured and managed user accounts, access rights, and permissions, ensuring robust data security.  \n",
       "- Delivered personalized and group training sessions, empowering users and reducing support volume.  \n",
       "- Acted as a subject matter expert on proprietary systems, guiding troubleshooting efforts.  \n",
       "- Analyzed logs and data transfers to identify and proactively resolve issues.  \n",
       "- Developed tools to automate repetitive help desk tasks, improving operational efficiency.\n",
       "\n",
       "### Student  \n",
       "**General Assembly | Chicago, Illinois**  \n",
       "*Jan 2017 – Apr 2017*\n",
       "\n",
       "- Completed an intensive full-stack web development course, dedicating 70+ hours per week to learning and coding.\n",
       "\n",
       "### Computer Programmer  \n",
       "**State of Michigan | Lansing, Michigan**  \n",
       "*Sep 2010 – Jun 2016*\n",
       "\n",
       "- Delivered statewide support and resolved application and data-related issues.  \n",
       "- Trained end users to enhance their independent troubleshooting abilities.  \n",
       "- Led statewide deployment of application upgrades.  \n",
       "- Created technical documentation and user guides to reduce support inquiries.  \n",
       "- Provided multi-channel help desk support (phone, email, remote).  \n",
       "- Used SQL to resolve access and data modification issues, ensuring compliance.\n",
       "\n",
       "### Data Analyst  \n",
       "**State of Michigan | Lansing, Michigan**  \n",
       "*Jun 1996 – Sep 2010*\n",
       "\n",
       "- Co-developed a digital ID system for the Department of Corrections.  \n",
       "- Managed user access for the Visitor Tracking system.  \n",
       "- Built custom desktop applications to optimize workflows.  \n",
       "- Provided IT support for a 25-person team, handling all hardware/software needs.  \n",
       "- Collaborated with leadership to develop automated operational solutions.\n",
       "\n",
       "---\n",
       "\n",
       "## SKILLS\n",
       "\n",
       "**Languages:** SQL, JavaScript, VBA  \n",
       "**Front End:** HTML, CSS, Bootstrap  \n",
       "**Other:** GitHub, Visual Studio, Jira\n",
       "\n",
       "---\n",
       "\n",
       "## EDUCATION\n",
       "\n",
       "**Michigan State University**  \n",
       "Bachelor of Arts  \n",
       "East Lansing, Michigan\n"
      ],
      "text/plain": [
       "<IPython.core.display.Markdown object>"
      ]
     },
     "metadata": {},
     "output_type": "display_data"
    }
   ],
   "source": [
    "# Open and read the Markdown file\n",
    "with open(\"resumes/resume.md\", \"r\", encoding=\"utf-8\") as file:\n",
    "    resume_string = file.read()\n",
    "\n",
    "# display resume\n",
    "display(Markdown(resume_string))"
   ]
  },
  {
   "cell_type": "code",
   "execution_count": 14,
   "id": "11562042-ba1a-4703-b38e-03f96031bee5",
   "metadata": {},
   "outputs": [
    {
     "name": "stdin",
     "output_type": "stream",
     "text": [
      " This is a great company consisting of only one person. The need lots of cash and a whole lot of luck.\n"
     ]
    }
   ],
   "source": [
    "# input job description\n",
    "jd_string = input()"
   ]
  },
  {
   "cell_type": "code",
   "execution_count": 15,
   "id": "780530da-5f8d-4c5a-b5e4-a3fe565569f4",
   "metadata": {},
   "outputs": [
    {
     "name": "stdin",
     "output_type": "stream",
     "text": [
      " Island Harmony Solutions\n"
     ]
    }
   ],
   "source": [
    "# input company name\n",
    "comp_name_string = input()"
   ]
  },
  {
   "cell_type": "code",
   "execution_count": 16,
   "id": "a50fcbda-2e21-477d-a92e-99ce9fc1f5b1",
   "metadata": {},
   "outputs": [
    {
     "name": "stdin",
     "output_type": "stream",
     "text": [
      " This is a great company consisting of only one person. The need lots of cash and a whole lot of luck.\n"
     ]
    }
   ],
   "source": [
    "# input company information\n",
    "comp_info_string = input()"
   ]
  },
  {
   "cell_type": "markdown",
   "id": "645fd11e-da6a-41ba-8ed1-ba8ed4903c8b",
   "metadata": {},
   "source": [
    "### 2) Construct Prompt Template"
   ]
  },
  {
   "cell_type": "code",
   "execution_count": 17,
   "id": "87b05995-b9a2-4204-9c37-771efbb644a6",
   "metadata": {},
   "outputs": [],
   "source": [
    "prompt_template = lambda resume_string, jd_string, comp_name_string, comp_info_string : f\"\"\"\n",
    "You are a professional resume optimization expert specializing in tailoring resumes to specific job descriptions. Your goal is to optimize my resume and provide actionable suggestions for improvement to align with the target role.\n",
    "\n",
    "Enhance a given resume to reflect a specific job description and company, optimizing for ATS and demonstrating alignment with the company's needs.\n",
    "\n",
    "Given a resume as a string in markdown format, along with a job description, company name, and company information, your goal is to:\n",
    "\n",
    "1. Update the resume's bullet points to align with the job description by incorporating keywords and phrases naturally, using strong action verbs, and optimizing for Applicant Tracking Systems (ATS).\n",
    "2. Write a summary of 6-8 sentences that includes the company name and explains how the applicant’s skills fit the company's needs.\n",
    "3. Provide actionable suggestions in three areas: additional skills, certifications or courses, and project ideas or experiences.\n",
    "\n",
    "# Steps\n",
    "\n",
    "1. **Analyze the Job Description**:\n",
    "   - Extract key skills, action verbs, and industry-specific jargon.\n",
    "   - Identify elements that are prioritized in the job description.\n",
    "\n",
    "2. **Update Resume Bullet Points**:\n",
    "   - Rewrite bullet points to naturally include keywords and phrases from the job description.\n",
    "   - Use strong action verbs to describe accomplishments and responsibilities.\n",
    "\n",
    "3. **Craft the Summary**:\n",
    "   - Write a 6-8 sentence summary tailored to the company name and needs.\n",
    "   - Highlight how existing skills map to the job requirements and the company’s mission or values.\n",
    "\n",
    "4. **Suggest Improvements**:\n",
    "   - List additional technical or soft skills that would strengthen the profile.\n",
    "   - Recommend relevant certifications or courses to help bridge any gaps.\n",
    "   - Propose project ideas or experiences that align with the desired role.\n",
    "\n",
    "5. **Output the Enhanced Resume**:\n",
    "   - Format the updated resume in clean Markdown format.\n",
    "   - Include a section titled \"Additional Suggestions\" with detailed, actionable items for improvement.\n",
    "\n",
    "**Input:**\n",
    "- Resume in Markdown: {resume_string}\n",
    "- Job Description: {jd_string}\n",
    "- Company Name: {comp_name_string}\n",
    "- Company Info: {comp_info_string}\n",
    "\n",
    "# Output Format\n",
    "\n",
    "- **Resume Format**: The enhanced resume should be formatted in clean, readable Markdown.\n",
    "- **Summary**: Write a concise, 6-8 sentence summary.\n",
    "- **Additional Suggestions**: Provide detailed recommendations in a separate section.\n",
    "- **Overall Structure**: Maintain original resume sections but enhance content as described.\n",
    "\n",
    "# Examples\n",
    "\n",
    "**Example Input:**\n",
    "- Resume in Markdown: \"[Resume String Here]\"\n",
    "- Job Description: \"[Job Description Here]\"\n",
    "- Company Name: \"[Company Name Here]\"\n",
    "- Company Info: \"[Company Info Here]\"\n",
    "\n",
    "**Example Output:**\n",
    "\n",
    "- **Enhanced Resume**:\n",
    "  ```markdown\n",
    "  # [Your Name]\n",
    "  - [Your Contact Information]\n",
    "\n",
    "  ## Summary\n",
    "  [Tailored summary using the company name and detailing alignment with job requirements.]\n",
    "\n",
    "  ## Experience\n",
    "  - **[Job Title]**\n",
    "    - Enhanced bullet points incorporating keywords and strong action verbs.\n",
    "\n",
    "  ## Skills\n",
    "  - Enhanced skills list with relevant additions.\n",
    "\n",
    "  ## Education\n",
    "  - [Existing content]\n",
    "\n",
    "  ## Additional Suggestions\n",
    "  - **Skills**: Suggest additional skills here.\n",
    "  - **Certifications/Courses**: Recommend relevant certifications or courses.\n",
    "  - **Projects/Experiences**: Propose project ideas or experiences.\n",
    "\n",
    "  ```\n",
    "*Note: This structure is an example. Ensure to fully adapt the content relevant to the specific job and company.*\n",
    "\n",
    "# Notes\n",
    "\n",
    "- Leverage the company's mission and values to better align the summary with their needs.\n",
    "- Prioritize clarity and simplicity in language, ensuring adherence to recruitment trends and standards.\n",
    "- Customize suggestions to be highly relevant and practical for the candidate's career goals and current position.\n",
    "\"\"\""
   ]
  },
  {
   "cell_type": "code",
   "execution_count": 18,
   "id": "071b2065-775b-4016-b5fd-0b41749c244f",
   "metadata": {
    "scrolled": true
   },
   "outputs": [],
   "source": [
    "prompt = prompt_template(resume_string, jd_string, comp_name_string, comp_info_string)"
   ]
  },
  {
   "cell_type": "markdown",
   "id": "0654b781-aa60-4a41-a9f1-a578edfad490",
   "metadata": {},
   "source": [
    "### 3) Generate Resume with GPT-4o-mini"
   ]
  },
  {
   "cell_type": "code",
   "execution_count": 12,
   "id": "a5eb19bc-7cb2-44df-8795-a13695414380",
   "metadata": {},
   "outputs": [],
   "source": [
    "# load the dotenv IPython extension and load the .env file\n",
    "%load_ext dotenv\n",
    "%dotenv\n",
    "\n",
    "# get the api key\n",
    "my_api_key = os.getenv(\"API_KEY\")\n",
    "\n",
    "# setup api client\n",
    "client = OpenAI(api_key=my_api_key)\n",
    "\n",
    "# make api call\n",
    "response = client.chat.completions.create(\n",
    "    model=\"gpt-4o-mini\",\n",
    "    messages=[\n",
    "        {\"role\": \"system\", \"content\": \"Expert resume writer\"},\n",
    "        {\"role\": \"user\", \"content\": prompt}\n",
    "    ], \n",
    "    temperature = 0.7\n",
    ")\n",
    "\n",
    "# extract response\n",
    "response_string = response.choices[0].message.content"
   ]
  },
  {
   "cell_type": "markdown",
   "id": "e3aa8d51-860d-42c6-ad60-570d4ac45b23",
   "metadata": {},
   "source": [
    "### 4) Display Results"
   ]
  },
  {
   "cell_type": "code",
   "execution_count": 13,
   "id": "8ca46d3f-e22c-4ea0-8425-f62bea16b932",
   "metadata": {},
   "outputs": [],
   "source": [
    "# separate new resume from improvement suggestions\n",
    "response_list = response_string.split(\"## Additional Suggestions\")"
   ]
  },
  {
   "cell_type": "code",
   "execution_count": 14,
   "id": "2b83cb9a-6ac7-4db9-9591-07f48632663c",
   "metadata": {},
   "outputs": [
    {
     "data": {
      "text/markdown": [
       "```markdown\n",
       "# Shaw Talebi  \n",
       "**Email**: [shawhintalebi@gmail.com](mailto:shawhintalebi@gmail.com)  \n",
       "**Homepage**: [shawhintalebi.com](https://shawhintalebi.com/) | **LinkedIn**: [shawhintalebi](https://www.linkedin.com/in/shawhintalebi/)\n",
       "\n",
       "---\n",
       "\n",
       "## Education  \n",
       "**The University of Texas at Dallas**  \n",
       "- PhD, Physics - *May 2022*  \n",
       "- M.S., Physics - *December 2019*  \n",
       "- B.S., Physics - *May 2017*  \n",
       "\n",
       "## Technical Skills  \n",
       "- **Tools**: Python, SQL, GitHub, AWS (SageMaker), Snowflake, Julia  \n",
       "- **Certifications**: AWS Cloud Practitioner Essentials, Data Structure & Algorithms, Tableau  \n",
       "\n",
       "## Relevant Experience  \n",
       "\n",
       "### **Data Science Consultant**  \n",
       "**Shawhin Talebi Ventures LLC** | Plano, Texas *(December 2020 - Present)*  \n",
       "- Implemented full data pipeline to evaluate 300+ biometrics variables, uncovering key insights in human performance.  \n",
       "- Applied unsupervised learning on ICU data to discover sepsis sub-phenotypes, enhancing data integrity and understanding.\n",
       "\n",
       "### **Data Scientist**  \n",
       "**Toyota Financial Services** | Plano, Texas *(June 2022 - July 2023)*  \n",
       "- Redeveloped loan origination models, improving performance by 50% and yielding $2.5 million in value.  \n",
       "- Corrected production credit risk model, impacting over 70% of accounts, and developed monitoring scripts to prevent future issues.\n",
       "\n",
       "### **Research Assistant**  \n",
       "**The University of Texas at Dallas** | Richardson, Texas *(December 2018 - May 2022)*  \n",
       "- Published methodology for EEG band discovery, enhancing characterization precision by 100%.  \n",
       "- Led deployment of Python-based biometrics application providing real-time insights, improving research outcomes.\n",
       "\n",
       "## Publications  \n",
       "1. Talebi S. et al. *Modeling Autonomic Pupillary Responses Using Machine Learning* (2019). [DOI](https://doi.org/10.26717/BJSTR.2019.20.003446).  \n",
       "2. Wijeratne, L.O. et al. *Using Machine Learning for Calibration of Airborne Particulate Sensors*. Sensors 2020.  \n",
       "3. Lary, D.J. et al. *Autonomous Learning with Robotic Teams*. Sensors 2021.  \n",
       "4. Zhang, Y. et al. *Machine Learning for Light Sensor Calibration*. Sensors 2021.  \n",
       "5. Talebi, S. et al. *Data-Driven EEG Band Discovery with Decision Trees*. Sensors 2022.  \n",
       "\n",
       "## Awards and Honors  \n",
       "- **Friends of BrainHealth Visionary New Scientist Award** — Finalist *(September 2021)*  \n",
       "- **Weeks of Welcome Poster Competition** — 3rd Place *(August 2019)*  \n",
       "\n",
       "---\n",
       "\n",
       "**References and additional information available upon request.**\n",
       "\n",
       "---\n",
       "\n"
      ],
      "text/plain": [
       "<IPython.core.display.Markdown object>"
      ]
     },
     "metadata": {},
     "output_type": "display_data"
    }
   ],
   "source": [
    "display(Markdown(response_list[0]))"
   ]
  },
  {
   "cell_type": "markdown",
   "id": "4c4a558a-cf64-4baf-8aa3-7d184c5b2b91",
   "metadata": {},
   "source": [
    "#### save new resume"
   ]
  },
  {
   "cell_type": "code",
   "execution_count": 15,
   "id": "e088f6ff-8e49-4ddc-a6bf-f847426a3b29",
   "metadata": {},
   "outputs": [],
   "source": [
    "# save as PDF\n",
    "output_pdf_file = \"resumes/resume_new.pdf\"\n",
    "\n",
    "# Convert Markdown to HTML\n",
    "html_content = markdown(response_list[0])\n",
    "\n",
    "# Convert HTML to PDF and save\n",
    "HTML(string=html_content).write_pdf(output_pdf_file, stylesheets=['resumes/style.css'])"
   ]
  },
  {
   "cell_type": "code",
   "execution_count": 16,
   "id": "30adb6b1-68b6-4951-8bfc-19db1ef9eb3a",
   "metadata": {},
   "outputs": [],
   "source": [
    "# save as markdown\n",
    "output_file = \"resumes/resume_new.md\"\n",
    "\n",
    "with open(output_file, \"w\", encoding=\"utf-8\") as file:\n",
    "    file.write(response_list[0])"
   ]
  },
  {
   "cell_type": "markdown",
   "id": "9b6997a3-47c8-4bf1-9df6-8c1a5ae00858",
   "metadata": {},
   "source": [
    "#### display suggestions for improvement"
   ]
  },
  {
   "cell_type": "code",
   "execution_count": 17,
   "id": "0f7397eb-d6cc-45e5-8cbd-bec6cc0cfc3b",
   "metadata": {},
   "outputs": [
    {
     "data": {
      "text/markdown": [
       "\n",
       "\n",
       "1. **Skills to Enhance**:  \n",
       "   - Explore \"Docs-as-Code\" methodologies to align with technical writing requirements.\n",
       "   - Gain experience with data engineering tools like Spark to broaden expertise.\n",
       "\n",
       "2. **Certifications or Courses**:  \n",
       "   - Consider enrolling in courses focused on technical documentation or UX writing.\n",
       "   - Pursue additional training in advanced Python libraries relevant to data engineering.\n",
       "\n",
       "3. **Project Ideas**:  \n",
       "   - Develop a project documenting a hypothetical SaaS product, emphasizing open-source components.\n",
       "   - Create a series of Python tutorials or integration guides to demonstrate technical writing capabilities.\n",
       "```\n",
       "\n",
       "### Explanation of Tailoring:\n",
       "\n",
       "1. **Relevance**: Focused on roles and experiences most aligned with technical writing, data collaboration, and Python expertise as required by the job description.\n",
       "2. **Action-Driven Results**: Emphasized quantifiable impacts and contributions in relevant roles.\n",
       "3. **Keyword Optimization**: Integrated terms like \"data pipeline,\" \"unsupervised learning,\" and \"EEG bands\" to align with the focus on data quality and technical documentation.\n",
       "4. **Formatting**: Structured the resume in a clean Markdown format, ensuring conciseness and clarity.\n",
       "5. **Additional Suggestions**: Provided actionable recommendations to enhance alignment with the target role.\n",
       "\n",
       "This optimized resume showcases your suitability for the Great Expectations role by highlighting your technical experience, relevant skills, and achievements in data science and documentation."
      ],
      "text/plain": [
       "<IPython.core.display.Markdown object>"
      ]
     },
     "metadata": {},
     "output_type": "display_data"
    }
   ],
   "source": [
    "display(Markdown(response_list[1]))"
   ]
  },
  {
   "cell_type": "code",
   "execution_count": null,
   "id": "f76d88ce-2f29-4b14-9930-9c331a154f1a",
   "metadata": {},
   "outputs": [],
   "source": []
  }
 ],
 "metadata": {
  "kernelspec": {
   "display_name": "Python 3 (ipykernel)",
   "language": "python",
   "name": "python3"
  },
  "language_info": {
   "codemirror_mode": {
    "name": "ipython",
    "version": 3
   },
   "file_extension": ".py",
   "mimetype": "text/x-python",
   "name": "python",
   "nbconvert_exporter": "python",
   "pygments_lexer": "ipython3",
   "version": "3.11.11"
  }
 },
 "nbformat": 4,
 "nbformat_minor": 5
}
