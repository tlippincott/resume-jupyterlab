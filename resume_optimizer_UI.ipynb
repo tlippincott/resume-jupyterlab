{
 "cells": [
  {
   "cell_type": "markdown",
   "id": "37193417-4ed8-4fb1-932f-90d1f6ed559e",
   "metadata": {},
   "source": [
    "# Create Gradio UI for Resume Optimizer\n",
    "\n",
    "Code authored by: Shaw Talebi\n",
    "<br>\n",
    "Modified by: Terry Lippincott\n",
    "\n",
    "[Original recording link](https://youtu.be/R5WXaxmb6m4)"
   ]
  },
  {
   "cell_type": "markdown",
   "id": "4ea92422-a6f6-402a-9fff-a0478b39df0e",
   "metadata": {},
   "source": [
    "### imports"
   ]
  },
  {
   "cell_type": "code",
   "execution_count": 1,
   "id": "752623ce-18cb-48d1-9616-b7ab31d2d31c",
   "metadata": {},
   "outputs": [],
   "source": [
    "import gradio as gr\n",
    "from gradio_pdf import PDF\n",
    "from functions import *"
   ]
  },
  {
   "cell_type": "markdown",
   "id": "086cb5c2-703e-4e8b-b5bd-a3e122c05e7a",
   "metadata": {
    "editable": true,
    "slideshow": {
     "slide_type": ""
    },
    "tags": []
   },
   "source": [
    "### UI"
   ]
  },
  {
   "cell_type": "code",
   "execution_count": 2,
   "id": "4c0896bc-f276-4c3b-a0d2-e886e2b39019",
   "metadata": {
    "editable": true,
    "slideshow": {
     "slide_type": ""
    },
    "tags": []
   },
   "outputs": [
    {
     "name": "stdout",
     "output_type": "stream",
     "text": [
      "* Running on local URL:  http://127.0.0.1:7860\n",
      "* To create a public link, set `share=True` in `launch()`.\n"
     ]
    },
    {
     "data": {
      "text/html": [
       "<div><iframe src=\"http://127.0.0.1:7860/\" width=\"100%\" height=\"500\" allow=\"autoplay; camera; microphone; clipboard-read; clipboard-write;\" frameborder=\"0\" allowfullscreen></iframe></div>"
      ],
      "text/plain": [
       "<IPython.core.display.HTML object>"
      ]
     },
     "metadata": {},
     "output_type": "display_data"
    },
    {
     "data": {
      "text/plain": []
     },
     "execution_count": 2,
     "metadata": {},
     "output_type": "execute_result"
    }
   ],
   "source": [
    "with gr.Blocks() as app:\n",
    "    # create header and app description\n",
    "    gr.Markdown(\"# Resume Optimizer & Cover Letter Creator\")\n",
    "    gr.Markdown(\"Upload the required information and get a customized resume and cover letter!\")\n",
    "\n",
    "    # job title and company name\n",
    "    with gr.Row():\n",
    "        jt_input = gr.Textbox(label=\"Job Title\", lines=1, interactive=True, placeholder=\"Paste job title\")\n",
    "        company_name_input = gr.Textbox(label=\"Company Name\", lines=1, interactive=True, placeholder=\"Paste company name\")\n",
    "\n",
    "    # resume bullet points and job description\n",
    "    with gr.Row():\n",
    "        resume_input = gr.File(label=\"Upload the corresponding resume bullet points\")\n",
    "        jd_input = gr.Textbox(label=\"Job Description\", lines=9, interactive=True, placeholder=\"Paste job description\")\n",
    "\n",
    "    # company information and job change selection\n",
    "    with gr.Row():\n",
    "        company_information_input = gr.Textbox(label=\"Company Information (About Us)\", lines=9, interactive=True, placeholder=\"Paste company info\")\n",
    "        job_change_input = gr.Radio([\"Yes\", \"No\"], label=\"Job Change\", info=\"Looking for a more customer-focused position?\")\n",
    "    \n",
    "    with gr.Tab(\"Build Enhanced Resume\"):\n",
    "        status = gr.Textbox(label=\"Status\", interactive=False)\n",
    "        run_button = gr.Button(\"Optimize Resume\")\n",
    "        output_resume_sections = gr.Textbox(label=\"Edit Enhanced Resume Sections\", lines=25, interactive=True)\n",
    "        output_suggestions = gr.Markdown(label=\"Suggestions\")\n",
    "        save_resume_edit_button = gr.Button(\"Save Edits\")\n",
    "        generate_resume_pdf_button = gr.Button(\"Generate Resume PDF\")\n",
    "\n",
    "    with gr.Tab(\"View Resume PDF\"):\n",
    "        resume_view_status = gr.Textbox(label=\"Status\", interactive=False)\n",
    "        resume_pdf = PDF(label=\"Resume PDF\")\n",
    "        view_resume_pdf_button = gr.Button(\"View Resume PDF\")\n",
    "        save_resume_pdf_button = gr.Button(\"Save Resume PDF\")\n",
    "        resume_pdf_filename = gr.Markdown(\"Terry_Lippincott_Resume_2025.pdf\", visible=False)\n",
    "\n",
    "    with gr.Tab(\"Cover Letter\"):\n",
    "        cover_letter_status = gr.Textbox(label=\"Cover Letter Generation Status\", interactive=False)\n",
    "        generate_cover_button = gr.Button(\"Generate Cover\")\n",
    "        output_cover_letter = gr.Textbox(label=\"Edit Cover Letter\", lines=50, interactive=True)\n",
    "        save_cover_edit_button = gr.Button(\"Save Edits\")\n",
    "\n",
    "    with gr.Tab(\"View Cover Letter PDF\"):\n",
    "        cover_pdf = PDF(label=\"Cover Letter PDF\", interactive=True)\n",
    "        view_cover_pdf_button = gr.Button(\"View PDF\")\n",
    "        cover_pdf_filename = gr.Markdown(\"Terry_Lippincott_Cover_2025.pdf\", visible=False)\n",
    "    \n",
    "    # event binding\n",
    "    run_button.click(process_resume, inputs=[resume_input, jd_input, company_name_input, company_information_input, job_change_input], outputs=[output_resume_sections, output_suggestions])\n",
    "    save_resume_edit_button.click(save_edits, inputs=[output_resume_sections], outputs=[status])\n",
    "    generate_resume_pdf_button.click(export_resume, inputs=[], outputs=[status])\n",
    "    view_resume_pdf_button.click(show_pdf, inputs=[resume_pdf_filename], outputs=[resume_pdf])\n",
    "    save_resume_pdf_button.click(move_to_downloads, inputs=[resume_pdf_filename], outputs=[resume_view_status])\n",
    "    generate_cover_button.click(process_cover_letter, inputs=[jt_input, jd_input, company_name_input, company_information_input, job_change_input], outputs=[output_cover_letter, cover_letter_status])\n",
    "    view_cover_pdf_button.click(inputs=[cover_pdf_filename], outputs=[cover_pdf])\n",
    "    save_cover_edit_button.click(save_cover_edits, inputs=[output_cover_letter], outputs=[cover_letter_status])\n",
    "\n",
    "# Launch the app\n",
    "app.launch()"
   ]
  },
  {
   "cell_type": "code",
   "execution_count": null,
   "id": "60fe48fe-4312-43cc-9f5d-569ce0f1600b",
   "metadata": {
    "editable": true,
    "slideshow": {
     "slide_type": ""
    },
    "tags": []
   },
   "outputs": [],
   "source": []
  }
 ],
 "metadata": {
  "kernelspec": {
   "display_name": "Python 3 (ipykernel)",
   "language": "python",
   "name": "python3"
  },
  "language_info": {
   "codemirror_mode": {
    "name": "ipython",
    "version": 3
   },
   "file_extension": ".py",
   "mimetype": "text/x-python",
   "name": "python",
   "nbconvert_exporter": "python",
   "pygments_lexer": "ipython3",
   "version": "3.11.11"
  }
 },
 "nbformat": 4,
 "nbformat_minor": 5
}
